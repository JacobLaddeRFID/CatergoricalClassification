{
 "cells": [
  {
   "cell_type": "markdown",
   "metadata": {},
   "source": [
    "# 1. Setup"
   ]
  },
  {
   "cell_type": "code",
   "execution_count": 1,
   "metadata": {},
   "outputs": [],
   "source": [
    "import sklearn\n",
    "import datetime\n",
    "import os,pickle\n",
    "import numpy as np\n",
    "import pandas as pd\n",
    "import tensorflow as tf\n",
    "from tensorflow import keras\n",
    "import matplotlib.pyplot as plt \n",
    "from keras.callbacks import ModelCheckpoint\n",
    "from sklearn.preprocessing import LabelEncoder\n",
    "from sklearn.model_selection import train_test_split"
   ]
  },
  {
   "cell_type": "markdown",
   "metadata": {},
   "source": [
    "# 2. Load Data"
   ]
  },
  {
   "cell_type": "code",
   "execution_count": 2,
   "metadata": {},
   "outputs": [],
   "source": [
    "df = pd.read_csv(r'C:\\Users\\USER\\Downloads\\AI_SHRDC\\Capstone3\\ecommerceDataset.csv')"
   ]
  },
  {
   "cell_type": "markdown",
   "metadata": {},
   "source": [
    "# 3. Data Inspection"
   ]
  },
  {
   "cell_type": "code",
   "execution_count": 3,
   "metadata": {},
   "outputs": [
    {
     "data": {
      "text/plain": [
       "Index(['Household', 'Paper Plane Design Framed Wall Hanging Motivational Office Decor Art Prints (8.7 X 8.7 inch) - Set of 4 Painting made up in synthetic frame with uv textured print which gives multi effects and attracts towards it. This is an special series of paintings which makes your wall very beautiful and gives a royal touch. This painting is ready to hang, you would be proud to possess this unique painting that is a niche apart. We use only the most modern and efficient printing technology on our prints, with only the and inks and precision epson, roland and hp printers. This innovative hd printing technique results in durable and spectacular looking prints of the highest that last a lifetime. We print solely with top-notch 100% inks, to achieve brilliant and true colours. Due to their high level of uv resistance, our prints retain their beautiful colours for many years. Add colour and style to your living space with this digitally printed painting. Some are for pleasure and some for eternal bliss.so bring home this elegant print that is lushed with rich colors that makes it nothing but sheer elegance to be to your friends and family.it would be treasured forever by whoever your lucky recipient is. Liven up your place with these intriguing paintings that are high definition hd graphic digital prints for home, office or any room.'], dtype='object')"
      ]
     },
     "execution_count": 3,
     "metadata": {},
     "output_type": "execute_result"
    }
   ],
   "source": [
    "df.keys()"
   ]
  },
  {
   "cell_type": "code",
   "execution_count": 4,
   "metadata": {},
   "outputs": [],
   "source": [
    "# Change the columns name\n",
    "df.columns = ['items','comments']"
   ]
  },
  {
   "cell_type": "code",
   "execution_count": 5,
   "metadata": {},
   "outputs": [
    {
     "data": {
      "text/plain": [
       "Index(['items', 'comments'], dtype='object')"
      ]
     },
     "execution_count": 5,
     "metadata": {},
     "output_type": "execute_result"
    }
   ],
   "source": [
    "df.keys()"
   ]
  },
  {
   "cell_type": "code",
   "execution_count": 6,
   "metadata": {},
   "outputs": [
    {
     "name": "stdout",
     "output_type": "stream",
     "text": [
      "Shape of the data:\n",
      "  (50424, 2)\n"
     ]
    }
   ],
   "source": [
    "print(\"Shape of the data:\\n \", df.shape)"
   ]
  },
  {
   "cell_type": "code",
   "execution_count": 7,
   "metadata": {},
   "outputs": [
    {
     "name": "stdout",
     "output_type": "stream",
     "text": [
      "<class 'pandas.core.frame.DataFrame'>\n",
      "RangeIndex: 50424 entries, 0 to 50423\n",
      "Data columns (total 2 columns):\n",
      " #   Column    Non-Null Count  Dtype \n",
      "---  ------    --------------  ----- \n",
      " 0   items     50424 non-null  object\n",
      " 1   comments  50423 non-null  object\n",
      "dtypes: object(2)\n",
      "memory usage: 788.0+ KB\n",
      "Data info:\n",
      "  None\n"
     ]
    }
   ],
   "source": [
    "print('Data info:\\n ', df.info())"
   ]
  },
  {
   "cell_type": "code",
   "execution_count": 8,
   "metadata": {},
   "outputs": [
    {
     "name": "stdout",
     "output_type": "stream",
     "text": [
      "Data description:\n",
      "           count unique                                                top  \\\n",
      "items     50424      4                                          Household   \n",
      "comments  50423  27801  Think & Grow Rich About the Author NAPOLEON HI...   \n",
      "\n",
      "           freq  \n",
      "items     19312  \n",
      "comments     30  \n"
     ]
    }
   ],
   "source": [
    "print('Data description:\\n' ,df.describe().transpose())"
   ]
  },
  {
   "cell_type": "code",
   "execution_count": 9,
   "metadata": {},
   "outputs": [
    {
     "name": "stdout",
     "output_type": "stream",
     "text": [
      "Example data:\n",
      "        items                                           comments\n",
      "0  Household  SAF 'Floral' Framed Painting (Wood, 30 inch x ...\n"
     ]
    }
   ],
   "source": [
    "print('Example data:\\n', df.head(1))"
   ]
  },
  {
   "cell_type": "code",
   "execution_count": 10,
   "metadata": {},
   "outputs": [
    {
     "name": "stdout",
     "output_type": "stream",
     "text": [
      "items\n",
      "Household                 19312\n",
      "Books                     11820\n",
      "Electronics               10621\n",
      "Clothing & Accessories     8671\n",
      "Name: count, dtype: int64\n"
     ]
    }
   ],
   "source": [
    "# Count each category\n",
    "categories_list = df['items'].unique()\n",
    "print(df['items'].value_counts())"
   ]
  },
  {
   "cell_type": "markdown",
   "metadata": {},
   "source": [
    "# 4. Data Cleaning"
   ]
  },
  {
   "cell_type": "code",
   "execution_count": 11,
   "metadata": {},
   "outputs": [
    {
     "name": "stdout",
     "output_type": "stream",
     "text": [
      "items       0\n",
      "comments    1\n",
      "dtype: int64\n"
     ]
    }
   ],
   "source": [
    "# See null value\n",
    "print(df.isna().sum())"
   ]
  },
  {
   "cell_type": "code",
   "execution_count": 12,
   "metadata": {},
   "outputs": [
    {
     "name": "stdout",
     "output_type": "stream",
     "text": [
      "items\n",
      "Household                 19312\n",
      "Books                     11820\n",
      "Electronics               10621\n",
      "Clothing & Accessories     8670\n",
      "Name: count, dtype: int64\n"
     ]
    }
   ],
   "source": [
    "# Drop null value\n",
    "df = df.dropna()\n",
    "print(df['items'].value_counts())"
   ]
  },
  {
   "cell_type": "markdown",
   "metadata": {},
   "source": [
    "# 5. Data Preprocessing"
   ]
  },
  {
   "cell_type": "code",
   "execution_count": 13,
   "metadata": {},
   "outputs": [],
   "source": [
    "# seperate feature and targets(labels)\n",
    "features = df['comments'].values\n",
    "labels = df['items'].values"
   ]
  },
  {
   "cell_type": "code",
   "execution_count": 14,
   "metadata": {},
   "outputs": [
    {
     "name": "stdout",
     "output_type": "stream",
     "text": [
      "50423\n"
     ]
    }
   ],
   "source": [
    "# Convert categorical data into interger\n",
    "label_encoder = LabelEncoder()\n",
    "labels_encoded = label_encoder.fit_transform(labels)\n",
    "print(len(labels_encoded))"
   ]
  },
  {
   "cell_type": "code",
   "execution_count": 15,
   "metadata": {},
   "outputs": [],
   "source": [
    "# Split train and test datasets\n",
    "X_train,X_test,y_train,y_test = train_test_split(features, labels_encoded, train_size=0.9, random_state=42)"
   ]
  },
  {
   "cell_type": "markdown",
   "metadata": {},
   "source": [
    "# 6. Setuping Tokenizers"
   ]
  },
  {
   "cell_type": "code",
   "execution_count": 16,
   "metadata": {},
   "outputs": [],
   "source": [
    "# Define Hyperparameters\n",
    "vocab_size = 5000\n",
    "oov_token = '<OOV>'\n",
    "max_length = 200\n",
    "embedding_dim = 64"
   ]
  },
  {
   "cell_type": "code",
   "execution_count": 17,
   "metadata": {},
   "outputs": [],
   "source": [
    "# Define Tokenizer\n",
    "tokenizer = keras.preprocessing.text.Tokenizer(\n",
    "    num_words=vocab_size,\n",
    "    split=\" \",\n",
    "    oov_token=oov_token\n",
    ")\n",
    "tokenizer.fit_on_texts(X_train)"
   ]
  },
  {
   "cell_type": "code",
   "execution_count": 18,
   "metadata": {},
   "outputs": [
    {
     "name": "stdout",
     "output_type": "stream",
     "text": [
      "{'<OOV>': 1, 'the': 2, 'and': 3, 'of': 4, 'to': 5, 'a': 6, 'for': 7, 'in': 8, 'with': 9, 'is': 10}\n"
     ]
    }
   ],
   "source": [
    "word_index = tokenizer.word_index\n",
    "print(dict(list(word_index.items())[0:10]))"
   ]
  },
  {
   "cell_type": "code",
   "execution_count": 19,
   "metadata": {},
   "outputs": [],
   "source": [
    "# Tokenizing Train and Test dataset\n",
    "X_train_tokens = tokenizer.texts_to_sequences(X_train)\n",
    "X_test_tokens = tokenizer.texts_to_sequences(X_test)"
   ]
  },
  {
   "cell_type": "code",
   "execution_count": 20,
   "metadata": {},
   "outputs": [],
   "source": [
    "X_train_padded = keras.utils.pad_sequences(\n",
    "    X_train_tokens,\n",
    "    maxlen=max_length,\n",
    "    padding=\"post\",\n",
    "    truncating=\"post\" # cut from behind\n",
    ")\n",
    "\n",
    "X_test_padded = keras.utils.pad_sequences(\n",
    "    X_test_tokens,\n",
    "    maxlen=max_length,\n",
    "    padding=\"post\",\n",
    "    truncating=\"post\" # cut from behind\n",
    ")"
   ]
  },
  {
   "cell_type": "markdown",
   "metadata": {},
   "source": [
    "# 7. Model Development"
   ]
  },
  {
   "cell_type": "code",
   "execution_count": 57,
   "metadata": {},
   "outputs": [],
   "source": [
    "# Layers and Activation input\n",
    "mutli_catergorical = keras.Sequential()\n",
    "mutli_catergorical.add(keras.layers.Embedding(vocab_size, embedding_dim))\n",
    "mutli_catergorical.add(keras.layers.Bidirectional(keras.layers.LSTM(12)))\n",
    "mutli_catergorical.add(keras.layers.Dense(12,activation='relu'))\n",
    "mutli_catergorical.add(keras.layers.Dense(len(np.unique(labels)), activation='softmax'))"
   ]
  },
  {
   "cell_type": "code",
   "execution_count": 22,
   "metadata": {},
   "outputs": [
    {
     "data": {
      "image/png": "[encoded data removed]",
      "text/plain": [
       "<IPython.core.display.Image object>"
      ]
     },
     "execution_count": 22,
     "metadata": {},
     "output_type": "execute_result"
    }
   ],
   "source": [
    "keras.utils.plot_model(mutli_catergorical)"
   ]
  },
  {
   "cell_type": "code",
   "execution_count": 23,
   "metadata": {},
   "outputs": [
    {
     "name": "stdout",
     "output_type": "stream",
     "text": [
      "Model: \"sequential\"\n",
      "_________________________________________________________________\n",
      " Layer (type)                Output Shape              Param #   \n",
      "=================================================================\n",
      " embedding (Embedding)       (None, None, 64)          320000    \n",
      "                                                                 \n",
      " bidirectional (Bidirectiona  (None, 96)               43392     \n",
      " l)                                                              \n",
      "                                                                 \n",
      " dense (Dense)               (None, 48)                4656      \n",
      "                                                                 \n",
      " dropout (Dropout)           (None, 48)                0         \n",
      "                                                                 \n",
      " dense_1 (Dense)             (None, 4)                 196       \n",
      "                                                                 \n",
      "=================================================================\n",
      "Total params: 368,244\n",
      "Trainable params: 368,244\n",
      "Non-trainable params: 0\n",
      "_________________________________________________________________\n"
     ]
    }
   ],
   "source": [
    "mutli_catergorical.summary()"
   ]
  },
  {
   "cell_type": "code",
   "execution_count": 58,
   "metadata": {},
   "outputs": [],
   "source": [
    "# Compiling model\n",
    "mutli_catergorical.compile(optimizer='adam', loss=keras.losses.sparse_categorical_crossentropy, metrics=[\"accuracy\"])"
   ]
  },
  {
   "cell_type": "code",
   "execution_count": 44,
   "metadata": {},
   "outputs": [],
   "source": [
    "PATH = os.getcwd()\n",
    "logpath = os.path.join(PATH,'tensorboard_log',datetime.datetime.now().strftime('%Y%m%d-%H%M%S'))\n",
    "tb = keras.callbacks.TensorBoard(logpath)"
   ]
  },
  {
   "cell_type": "code",
   "execution_count": 45,
   "metadata": {},
   "outputs": [],
   "source": [
    "checkpoint_filepath = 'checkpoint.h5'\n",
    "model_checkpoint_callback = ModelCheckpoint(filepath=checkpoint_filepath,save_weights_only=True,save_best_only=True,monitor='val_loss', mode='auto', verbose=1)"
   ]
  },
  {
   "cell_type": "code",
   "execution_count": 46,
   "metadata": {},
   "outputs": [],
   "source": [
    "early_stopping = keras.callbacks.EarlyStopping(patience=2,monitor='val_loss',restore_best_weights=True)"
   ]
  },
  {
   "cell_type": "code",
   "execution_count": 59,
   "metadata": {},
   "outputs": [
    {
     "name": "stdout",
     "output_type": "stream",
     "text": [
      "Epoch 1/5\n",
      "1419/1419 [==============================] - ETA: 0s - loss: 0.2762 - accuracy: 0.9119\n",
      "Epoch 1: val_loss did not improve from 0.09312\n",
      "1419/1419 [==============================] - 50s 33ms/step - loss: 0.2762 - accuracy: 0.9119 - val_loss: 0.1160 - val_accuracy: 0.9687\n",
      "Epoch 2/5\n",
      "1419/1419 [==============================] - ETA: 0s - loss: 0.0875 - accuracy: 0.9771\n",
      "Epoch 2: val_loss did not improve from 0.09312\n",
      "1419/1419 [==============================] - 46s 32ms/step - loss: 0.0875 - accuracy: 0.9771 - val_loss: 0.0962 - val_accuracy: 0.9754\n",
      "Epoch 3/5\n",
      "1418/1419 [============================>.] - ETA: 0s - loss: 0.0577 - accuracy: 0.9841\n",
      "Epoch 3: val_loss improved from 0.09312 to 0.09201, saving model to checkpoint.h5\n",
      "1419/1419 [==============================] - 45s 32ms/step - loss: 0.0578 - accuracy: 0.9841 - val_loss: 0.0920 - val_accuracy: 0.9772\n",
      "Epoch 4/5\n",
      "1419/1419 [==============================] - ETA: 0s - loss: 0.0423 - accuracy: 0.9888\n",
      "Epoch 4: val_loss improved from 0.09201 to 0.08901, saving model to checkpoint.h5\n",
      "1419/1419 [==============================] - 46s 32ms/step - loss: 0.0423 - accuracy: 0.9888 - val_loss: 0.0890 - val_accuracy: 0.9782\n",
      "Epoch 5/5\n",
      "1418/1419 [============================>.] - ETA: 0s - loss: 0.0319 - accuracy: 0.9917\n",
      "Epoch 5: val_loss improved from 0.08901 to 0.08779, saving model to checkpoint.h5\n",
      "1419/1419 [==============================] - 46s 32ms/step - loss: 0.0319 - accuracy: 0.9917 - val_loss: 0.0878 - val_accuracy: 0.9784\n"
     ]
    }
   ],
   "source": [
    "max_epoch = 5\n",
    "history = mutli_catergorical.fit(\n",
    "    X_train_padded,y_train,\n",
    "    validation_data=(X_test_padded,y_test),\n",
    "    epochs =max_epoch,\n",
    "    callbacks=[early_stopping,tb,model_checkpoint_callback]\n",
    "    )"
   ]
  },
  {
   "cell_type": "code",
   "execution_count": 37,
   "metadata": {},
   "outputs": [],
   "source": [
    "mutli_catergorical.load_weights(checkpoint_filepath)"
   ]
  },
  {
   "cell_type": "code",
   "execution_count": 38,
   "metadata": {},
   "outputs": [
    {
     "name": "stdout",
     "output_type": "stream",
     "text": [
      "158/158 [==============================] - 2s 13ms/step\n",
      "Classification Report:\n",
      "              precision    recall  f1-score   support\n",
      "\n",
      "           0       0.98      0.98      0.98      1208\n",
      "           1       0.99      0.98      0.99       865\n",
      "           2       0.96      0.98      0.97      1042\n",
      "           3       0.97      0.98      0.98      1928\n",
      "\n",
      "    accuracy                           0.98      5043\n",
      "   macro avg       0.98      0.98      0.98      5043\n",
      "weighted avg       0.98      0.98      0.98      5043\n",
      "\n"
     ]
    }
   ],
   "source": [
    "from sklearn.metrics import classification_report\n",
    "\n",
    "y_pred = mutli_catergorical.predict(X_test_padded)\n",
    "y_pred_index = np.argmax(y_pred, axis=1)\n",
    "\n",
    "# Print classification report\n",
    "report = classification_report(y_test, y_pred_index)\n",
    "print(\"Classification Report:\")\n",
    "print(report)\n"
   ]
  },
  {
   "cell_type": "code",
   "execution_count": 60,
   "metadata": {},
   "outputs": [
    {
     "data": {
      "image/png": "[encoded data removed]",
      "text/plain": [
       "<Figure size 640x480 with 1 Axes>"
      ]
     },
     "metadata": {},
     "output_type": "display_data"
    }
   ],
   "source": [
    "plt.figure()\n",
    "plt.plot(history.history['loss'])\n",
    "plt.plot(history.history['val_loss'])\n",
    "plt.legend(['Training Loss','Validation Loss'])\n",
    "plt.show()"
   ]
  },
  {
   "cell_type": "code",
   "execution_count": 61,
   "metadata": {},
   "outputs": [
    {
     "data": {
      "image/png": "[encoded data removed]",
      "text/plain": [
       "<Figure size 640x480 with 1 Axes>"
      ]
     },
     "metadata": {},
     "output_type": "display_data"
    }
   ],
   "source": [
    "plt.figure()\n",
    "plt.plot(history.history['accuracy'])\n",
    "plt.plot(history.history['val_accuracy'])\n",
    "plt.legend(['Training accuracy', 'Validation accuracy'])\n",
    "plt.show()"
   ]
  },
  {
   "cell_type": "markdown",
   "metadata": {},
   "source": [
    "# 8. Save Model"
   ]
  },
  {
   "cell_type": "code",
   "execution_count": 33,
   "metadata": {},
   "outputs": [
    {
     "name": "stdout",
     "output_type": "stream",
     "text": [
      "c:\\Users\\USER\\Downloads\\AI_SHRDC\\Capstone3\n"
     ]
    }
   ],
   "source": [
    "PATH = os.getcwd()\n",
    "print(PATH)"
   ]
  },
  {
   "cell_type": "code",
   "execution_count": 34,
   "metadata": {},
   "outputs": [],
   "source": [
    "tokenizer_save_path = os.path.join(PATH,'tokenizer_mutliclass.json')\n",
    "with open(tokenizer_save_path,'wb') as f:\n",
    "    pickle.dump(tokenizer,f)"
   ]
  },
  {
   "cell_type": "code",
   "execution_count": 35,
   "metadata": {},
   "outputs": [],
   "source": [
    "label_enconder_save_path = os.path.join(PATH,'label_encoder_mutliclass.pkl')\n",
    "with open(label_enconder_save_path,'wb') as f:\n",
    "    pickle.dump(label_encoder,f)"
   ]
  },
  {
   "cell_type": "code",
   "execution_count": 36,
   "metadata": {},
   "outputs": [],
   "source": [
    "mutli_catergorical.save(r'CP\\run.h5')"
   ]
  }
 ],
 "metadata": {
  "kernelspec": {
   "display_name": "AI07_GPU",
   "language": "python",
   "name": "python3"
  },
  "language_info": {
   "codemirror_mode": {
    "name": "ipython",
    "version": 3
   },
   "file_extension": ".py",
   "mimetype": "text/x-python",
   "name": "python",
   "nbconvert_exporter": "python",
   "pygments_lexer": "ipython3",
   "version": "3.9.18"
  }
 },
 "nbformat": 4,
 "nbformat_minor": 2
}
